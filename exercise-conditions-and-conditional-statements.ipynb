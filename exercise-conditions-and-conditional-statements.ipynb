{
 "cells": [
  {
   "cell_type": "markdown",
   "id": "b73ba0bd",
   "metadata": {
    "_cell_guid": "46381c72-a400-4350-9219-0920b3489d74",
    "_uuid": "0fe94a76-bad1-41b5-854e-d23861329873",
    "collapsed": false,
    "jupyter": {
     "outputs_hidden": false
    },
    "papermill": {
     "duration": 0.008246,
     "end_time": "2025-01-15T21:32:05.012350",
     "exception": false,
     "start_time": "2025-01-15T21:32:05.004104",
     "status": "completed"
    },
    "tags": []
   },
   "source": [
    "**This notebook is an exercise in the [Intro to Programming](https://www.kaggle.com/learn/intro-to-programming) course.  You can reference the tutorial at [this link](https://www.kaggle.com/alexisbcook/conditions-and-conditional-statements).**\n",
    "\n",
    "---"
   ]
  },
  {
   "cell_type": "markdown",
   "id": "20904302",
   "metadata": {
    "_cell_guid": "2daec394-e0e4-41f8-8c6b-0b7b7f83d7bf",
    "_uuid": "84bba599-cf56-403f-9742-bf4306195f81",
    "collapsed": false,
    "jupyter": {
     "outputs_hidden": false
    },
    "papermill": {
     "duration": 0.005914,
     "end_time": "2025-01-15T21:32:05.025237",
     "exception": false,
     "start_time": "2025-01-15T21:32:05.019323",
     "status": "completed"
    },
    "tags": []
   },
   "source": [
    "In the tutorial, you learned about conditions and conditional statements. In this exercise, you will use what you learned to answer several questions.\n",
    "\n",
    "# Set up the notebook\n",
    "\n",
    "Run the next code cell without changes to set up the notebook."
   ]
  },
  {
   "cell_type": "code",
   "execution_count": 1,
   "id": "9087d572",
   "metadata": {
    "_cell_guid": "f1d64bea-feee-46dd-ba9a-76a8b207c21a",
    "_uuid": "fd004882-67e6-45f2-ba11-bca24a89bc41",
    "collapsed": false,
    "execution": {
     "iopub.execute_input": "2025-01-15T21:32:05.038918Z",
     "iopub.status.busy": "2025-01-15T21:32:05.038488Z",
     "iopub.status.idle": "2025-01-15T21:32:05.968804Z",
     "shell.execute_reply": "2025-01-15T21:32:05.967330Z"
    },
    "jupyter": {
     "outputs_hidden": false
    },
    "papermill": {
     "duration": 0.939276,
     "end_time": "2025-01-15T21:32:05.970721",
     "exception": false,
     "start_time": "2025-01-15T21:32:05.031445",
     "status": "completed"
    },
    "tags": []
   },
   "outputs": [
    {
     "name": "stdout",
     "output_type": "stream",
     "text": [
      "Setup complete.\n"
     ]
    }
   ],
   "source": [
    "from learntools.core import binder\n",
    "binder.bind(globals())\n",
    "from learntools.intro_to_programming.ex4 import *\n",
    "print('Setup complete.')"
   ]
  },
  {
   "cell_type": "markdown",
   "id": "a65d6f8c",
   "metadata": {
    "_cell_guid": "56781b31-21ee-45c1-b722-aee2dde95cad",
    "_uuid": "199f9d06-aead-48c8-b2ca-b91f2ffbf77b",
    "collapsed": false,
    "jupyter": {
     "outputs_hidden": false
    },
    "papermill": {
     "duration": 0.006118,
     "end_time": "2025-01-15T21:32:05.983499",
     "exception": false,
     "start_time": "2025-01-15T21:32:05.977381",
     "status": "completed"
    },
    "tags": []
   },
   "source": [
    "# Question 1\n",
    "\n",
    "You work at a college admissions office.  When inspecting a dataset of college applicants, you notice that some students have represented their grades with letters (`\"A\"`, `\"B\"`, `\"C\"`, `\"D\"`, `\"F\"`), whereas others have represented their grades with a number between 0 and 100.\n",
    "\n",
    "You realize that for consistency, all of the grades should be formatted in the same way, and you decide to format them all as letters.  For the conversion, you decide to assign:\n",
    "- `\"A\"` - any grade 90-100, inclusive\n",
    "- `\"B\"` - any grade 80-89, inclusive\n",
    "- `\"C\"` - any grade 70-79, inclusive\n",
    "- `\"D\"` - any grade 60-69, inclusive\n",
    "- `\"F\"` - any grade <60\n",
    "\n",
    "Write a function `get_grade()` that takes as input:\n",
    "- `score` - an integer 0-100 corresponding to a numerical grade\n",
    "\n",
    "It should return a Python string with the letter grade that it corresponds to.  For instance,\n",
    "- A score of 85 corresponds to a B grade.  In other words, `get_grade(85)` should return `\"B\"`.\n",
    "- A score of 49 corresponds to an F grade.  In other words, `get_grade(49)` should return `\"F\"`.\n",
    "\n",
    "Make sure that when supplying the grade that is returned by the function, it is enclosed in quotes.  (For instance, if you want to return `\"A\"`, you should write `return \"A\"` and not `return A`.)"
   ]
  },
  {
   "cell_type": "code",
   "execution_count": 2,
   "id": "2460d0e5",
   "metadata": {
    "_cell_guid": "373e3f06-1a95-4d55-b12b-c0462d8b492e",
    "_uuid": "c94f5f6f-01ed-4f98-8be5-08376c0deb9f",
    "collapsed": false,
    "execution": {
     "iopub.execute_input": "2025-01-15T21:32:05.999618Z",
     "iopub.status.busy": "2025-01-15T21:32:05.999092Z",
     "iopub.status.idle": "2025-01-15T21:32:06.008729Z",
     "shell.execute_reply": "2025-01-15T21:32:06.007788Z"
    },
    "jupyter": {
     "outputs_hidden": false
    },
    "papermill": {
     "duration": 0.018586,
     "end_time": "2025-01-15T21:32:06.010198",
     "exception": false,
     "start_time": "2025-01-15T21:32:05.991612",
     "status": "completed"
    },
    "tags": []
   },
   "outputs": [
    {
     "data": {
      "application/javascript": [
       "parent.postMessage({\"jupyterEvent\": \"custom.exercise_interaction\", \"data\": {\"outcomeType\": 1, \"valueTowardsCompletion\": 0.2, \"interactionType\": 1, \"questionType\": 2, \"questionId\": \"1_GetGrade\", \"learnToolsVersion\": \"0.3.4\", \"failureMessage\": \"\", \"exceptionClass\": \"\", \"trace\": \"\"}}, \"*\")"
      ],
      "text/plain": [
       "<IPython.core.display.Javascript object>"
      ]
     },
     "metadata": {},
     "output_type": "display_data"
    },
    {
     "data": {
      "text/markdown": [
       "<span style=\"color:#33cc33\">Correct</span>"
      ],
      "text/plain": [
       "Correct"
      ]
     },
     "metadata": {},
     "output_type": "display_data"
    }
   ],
   "source": [
    "# TODO: Edit the function to return the correct grade for different scores\n",
    "def get_grade(score):\n",
    "    if score < 60:\n",
    "        grade = \"F\"\n",
    "    elif 60 <= score <= 69:\n",
    "        grade = \"D\"\n",
    "    elif 70 <= score <= 79:\n",
    "        grade = \"C\"\n",
    "    elif 80 <= score <= 89:\n",
    "        grade = \"B\"\n",
    "    elif 90 <= score <= 100:\n",
    "        grade = \"A\"\n",
    "    else:\n",
    "        raise ValueError(\"Inserte un número válido\")\n",
    "    return grade\n",
    "    \n",
    "# Check your answer\n",
    "q1.check()"
   ]
  },
  {
   "cell_type": "code",
   "execution_count": 3,
   "id": "c3a7e0f8",
   "metadata": {
    "_cell_guid": "20145e1d-c5cf-4c7d-98bb-e52b33c55946",
    "_uuid": "abccd855-e84d-4bde-93df-f1d7335e8d6a",
    "collapsed": false,
    "execution": {
     "iopub.execute_input": "2025-01-15T21:32:06.024853Z",
     "iopub.status.busy": "2025-01-15T21:32:06.024494Z",
     "iopub.status.idle": "2025-01-15T21:32:06.028432Z",
     "shell.execute_reply": "2025-01-15T21:32:06.027305Z"
    },
    "jupyter": {
     "outputs_hidden": false
    },
    "papermill": {
     "duration": 0.01324,
     "end_time": "2025-01-15T21:32:06.030282",
     "exception": false,
     "start_time": "2025-01-15T21:32:06.017042",
     "status": "completed"
    },
    "tags": []
   },
   "outputs": [],
   "source": [
    "# Uncomment to see a hint\n",
    "#q1.hint()\n",
    "\n",
    "# Uncomment to see the solution\n",
    "#q1.solution()"
   ]
  },
  {
   "cell_type": "markdown",
   "id": "95905d4d",
   "metadata": {
    "_cell_guid": "51fc204d-902d-46a5-859b-72b10d6434d3",
    "_uuid": "ee5c0653-c246-4c33-92b8-5dc987640462",
    "collapsed": false,
    "jupyter": {
     "outputs_hidden": false
    },
    "papermill": {
     "duration": 0.006493,
     "end_time": "2025-01-15T21:32:06.043916",
     "exception": false,
     "start_time": "2025-01-15T21:32:06.037423",
     "status": "completed"
    },
    "tags": []
   },
   "source": [
    "# Question 2\n",
    "\n",
    "In the exercise for the previous lesson, you wrote a function `cost_of_project()` that estimated the price of rings for an online shop that sells rings with custom engravings.  This function did not use conditional statements.  In this exercise, you will rewrite the function to use conditional statements.  Recall that the online shop has the following price structure:\n",
    "- Gold plated rings have a base cost of \\\\$50, and you charge \\\\$7 per engraved unit.  \n",
    "- Solid gold rings have a base cost of \\\\$100, and you charge \\\\$10 per engraved unit.\n",
    "- Spaces and punctuation are counted as engraved units.\n",
    "\n",
    "Your function `cost_of_project()` takes two arguments:\n",
    "- `engraving` - a Python string with the text of the engraving\n",
    "- `solid_gold` - a Boolean that indicates whether the ring is solid gold\n",
    "\n",
    "It should return the cost of the project.  \n",
    "\n",
    "The function has been partially completed for you, and you need to fill in the blanks to complete the function."
   ]
  },
  {
   "cell_type": "code",
   "execution_count": 4,
   "id": "751e1f20",
   "metadata": {
    "_cell_guid": "06c0c0e5-8869-4876-bf9d-475d4d90df38",
    "_uuid": "eafddfc5-e36d-44e9-b604-7be71ff07710",
    "collapsed": false,
    "execution": {
     "iopub.execute_input": "2025-01-15T21:32:06.058695Z",
     "iopub.status.busy": "2025-01-15T21:32:06.058331Z",
     "iopub.status.idle": "2025-01-15T21:32:06.065817Z",
     "shell.execute_reply": "2025-01-15T21:32:06.064872Z"
    },
    "jupyter": {
     "outputs_hidden": false
    },
    "papermill": {
     "duration": 0.016615,
     "end_time": "2025-01-15T21:32:06.067327",
     "exception": false,
     "start_time": "2025-01-15T21:32:06.050712",
     "status": "completed"
    },
    "tags": []
   },
   "outputs": [
    {
     "data": {
      "application/javascript": [
       "parent.postMessage({\"jupyterEvent\": \"custom.exercise_interaction\", \"data\": {\"outcomeType\": 2, \"failureMessage\": \"Expected return value of `240` given `engraving='Charlie+Denver'`, `solid_gold=True`, but got `<learntools.core.constants.PlaceholderValue object at 0x7e2e62d43e20>` instead.\", \"interactionType\": 1, \"questionType\": 2, \"questionId\": \"2_CostProjectPartDeux\", \"learnToolsVersion\": \"0.3.4\", \"valueTowardsCompletion\": 0.0, \"exceptionClass\": \"\", \"trace\": \"\"}}, \"*\")"
      ],
      "text/plain": [
       "<IPython.core.display.Javascript object>"
      ]
     },
     "metadata": {},
     "output_type": "display_data"
    },
    {
     "data": {
      "text/markdown": [
       "<span style=\"color:#cc3333\">Incorrect:</span> Expected return value of `240` given `engraving='Charlie+Denver'`, `solid_gold=True`, but got `<learntools.core.constants.PlaceholderValue object at 0x7e2e62d43e20>` instead."
      ],
      "text/plain": [
       "Incorrect: Expected return value of `240` given `engraving='Charlie+Denver'`, `solid_gold=True`, but got `<learntools.core.constants.PlaceholderValue object at 0x7e2e62d43e20>` instead."
      ]
     },
     "metadata": {},
     "output_type": "display_data"
    }
   ],
   "source": [
    "def cost_of_project(engraving, solid_gold):\n",
    "    if solid_gold == True:\n",
    "        cost = ____\n",
    "    else:\n",
    "        cost = ____\n",
    "    return cost\n",
    "\n",
    "# Check your answer\n",
    "q2.check()"
   ]
  },
  {
   "cell_type": "code",
   "execution_count": 5,
   "id": "613d333d",
   "metadata": {
    "_cell_guid": "033dc281-2ddd-4448-9156-c53ea0014985",
    "_uuid": "c2fc1168-2d26-412b-ab68-57e533fa9cbb",
    "collapsed": false,
    "execution": {
     "iopub.execute_input": "2025-01-15T21:32:06.082882Z",
     "iopub.status.busy": "2025-01-15T21:32:06.082441Z",
     "iopub.status.idle": "2025-01-15T21:32:06.086284Z",
     "shell.execute_reply": "2025-01-15T21:32:06.085401Z"
    },
    "jupyter": {
     "outputs_hidden": false
    },
    "papermill": {
     "duration": 0.013474,
     "end_time": "2025-01-15T21:32:06.087902",
     "exception": false,
     "start_time": "2025-01-15T21:32:06.074428",
     "status": "completed"
    },
    "tags": []
   },
   "outputs": [],
   "source": [
    "# Uncomment to see a hint\n",
    "#q2.hint()\n",
    "\n",
    "# Uncomment to see the solution\n",
    "#q2.solution()"
   ]
  },
  {
   "cell_type": "markdown",
   "id": "f22f5a1c",
   "metadata": {
    "_cell_guid": "5d4dfa57-6613-436a-b874-62cbb77da634",
    "_uuid": "7ca9a408-29ab-49f8-ac19-9a502e80112d",
    "collapsed": false,
    "jupyter": {
     "outputs_hidden": false
    },
    "papermill": {
     "duration": 0.008265,
     "end_time": "2025-01-15T21:32:06.103237",
     "exception": false,
     "start_time": "2025-01-15T21:32:06.094972",
     "status": "completed"
    },
    "tags": []
   },
   "source": [
    "# Question 3\n",
    "\n",
    "You are a programmer at a water agency.  Recently, you have been tasked to write a function `get_water_bill()` that takes as input:\n",
    "- `num_gallons` = the number of gallons of water that a customer used that month.  (This will always be an integer with no decimal part.)\n",
    "\n",
    "It should output the water bill.  \n",
    "\n",
    "The water agency uses this pricing structure:\n",
    "<table style=\"width: 100%;\">\n",
    "<tbody>\n",
    "<tr><th><b>Tier</b></th><th><b>Amount in gallons</b></th><th><b>Price per 1000 gallons</b></th></tr>\n",
    "<tr>\n",
    "<td>Tier 1</td>\n",
    "<td>0 - 8,000</td>\n",
    "<td>\\$5</td>\n",
    "</tr>\n",
    "<tr>\n",
    "<td>Tier 2</td>\n",
    "<td>8,001 - 22,000</td>\n",
    "<td>\\$6</td>\n",
    "</tr>\n",
    "<tr>\n",
    "<td>Tier 3</td>\n",
    "<td>22,001 - 30,000</td>\n",
    "<td>\\$7</td>\n",
    "</tr>\n",
    "<tr>\n",
    "<td>Tier 4</td>\n",
    "<td>30,001+</td>\n",
    "<td>\\$10</td>\n",
    "</tr>\n",
    "</tbody>\n",
    "</table>\n",
    "\n",
    "For example: \n",
    "- Someone who uses 10,000 gallons of water in a month is placed in Tier 2, and needs to pay a water bill of \\\\$6 * 10 = \\\\$60.  In other words, `get_water_bill(10000)` should return `60.0`.\n",
    "- Someone who uses 25,000 gallons of water in a month is placed in Tier 3, and needs to pay a water bill of \\\\$7 * 25 = \\\\$175.  In other words, `get_water_bill(25000)` should return `175.0`.\n",
    "\n",
    "**Do not round your answer.**  So, your answer might return fractions of a penny."
   ]
  },
  {
   "cell_type": "code",
   "execution_count": 6,
   "id": "e63a2c6e",
   "metadata": {
    "_cell_guid": "49a34be4-9fbf-41b8-8fd7-7a1508cc2ac3",
    "_uuid": "6f506224-23c3-4af6-b68b-34ccebad06ef",
    "collapsed": false,
    "execution": {
     "iopub.execute_input": "2025-01-15T21:32:06.118832Z",
     "iopub.status.busy": "2025-01-15T21:32:06.118447Z",
     "iopub.status.idle": "2025-01-15T21:32:06.125872Z",
     "shell.execute_reply": "2025-01-15T21:32:06.124983Z"
    },
    "jupyter": {
     "outputs_hidden": false
    },
    "papermill": {
     "duration": 0.016884,
     "end_time": "2025-01-15T21:32:06.127381",
     "exception": false,
     "start_time": "2025-01-15T21:32:06.110497",
     "status": "completed"
    },
    "tags": []
   },
   "outputs": [
    {
     "data": {
      "application/javascript": [
       "parent.postMessage({\"jupyterEvent\": \"custom.exercise_interaction\", \"data\": {\"outcomeType\": 2, \"failureMessage\": \"Expected return value of `0.0` given `num_gallons=0`, but got `1000` instead.\", \"interactionType\": 1, \"questionType\": 2, \"questionId\": \"3_GetWaterBill\", \"learnToolsVersion\": \"0.3.4\", \"valueTowardsCompletion\": 0.0, \"exceptionClass\": \"\", \"trace\": \"\"}}, \"*\")"
      ],
      "text/plain": [
       "<IPython.core.display.Javascript object>"
      ]
     },
     "metadata": {},
     "output_type": "display_data"
    },
    {
     "data": {
      "text/markdown": [
       "<span style=\"color:#cc3333\">Incorrect:</span> Expected return value of `0.0` given `num_gallons=0`, but got `1000` instead."
      ],
      "text/plain": [
       "Incorrect: Expected return value of `0.0` given `num_gallons=0`, but got `1000` instead."
      ]
     },
     "metadata": {},
     "output_type": "display_data"
    }
   ],
   "source": [
    "# TODO: Edit the function to return the correct bill for different\n",
    "# values of num_gallons\n",
    "def get_water_bill(num_gallons):\n",
    "    bill = 1000\n",
    "    return bill\n",
    "\n",
    "# Check your answer\n",
    "q3.check()"
   ]
  },
  {
   "cell_type": "code",
   "execution_count": 7,
   "id": "72b6a921",
   "metadata": {
    "_cell_guid": "44a82e0c-e3fb-4746-af6d-134103060094",
    "_uuid": "368be811-3cd1-42a7-9727-c097dee3cc4c",
    "collapsed": false,
    "execution": {
     "iopub.execute_input": "2025-01-15T21:32:06.143264Z",
     "iopub.status.busy": "2025-01-15T21:32:06.142934Z",
     "iopub.status.idle": "2025-01-15T21:32:06.146727Z",
     "shell.execute_reply": "2025-01-15T21:32:06.145656Z"
    },
    "jupyter": {
     "outputs_hidden": false
    },
    "papermill": {
     "duration": 0.013762,
     "end_time": "2025-01-15T21:32:06.148469",
     "exception": false,
     "start_time": "2025-01-15T21:32:06.134707",
     "status": "completed"
    },
    "tags": []
   },
   "outputs": [],
   "source": [
    "# Uncomment to see a hint\n",
    "#q3.hint()\n",
    "\n",
    "# Uncomment to see the solution\n",
    "#q3.solution()"
   ]
  },
  {
   "cell_type": "markdown",
   "id": "5455a72a",
   "metadata": {
    "_cell_guid": "c4ed16aa-3789-48b1-9a6f-c6a231b8c0d1",
    "_uuid": "8bafd84f-93b3-4935-82ad-6f4339177307",
    "collapsed": false,
    "jupyter": {
     "outputs_hidden": false
    },
    "papermill": {
     "duration": 0.006907,
     "end_time": "2025-01-15T21:32:06.162844",
     "exception": false,
     "start_time": "2025-01-15T21:32:06.155937",
     "status": "completed"
    },
    "tags": []
   },
   "source": [
    "# Question 4\n",
    "\n",
    "You work for a company that provides data services.  For \\\\$100/month, your company provides 15 gigabytes (GB) of data.  Then, any additional data is billed at \\\\$0.10/MB (or \\\\$100/GB, since 1,000 MB are in 1 GB).\n",
    "\n",
    "Use the next code cell to write a function `get_phone_bill()` that takes as input:\n",
    "- `gb` = number of GB that the customer used in a month\n",
    "\n",
    "It should return the customer's total phone bill.\n",
    "\n",
    "For instance:\n",
    "- A customer who uses 10 GB of data in one month is billed only \\\\$100, since the usage stayed under 15 GB.  In other words, `get_phone_bill(10)` should return `100`.\n",
    "- A customer who uses 15.1 GB (or 15 GB + 100 MB) of data in one month has gone over by .1 GB, so they must pay \\\\$100 (cost of plan), plus \\\\$0.10 * 100 = \\\\$10, for a total bill of \\\\$110.  In other words, `get_phone_bill(15.1)` should return `110`.\n",
    "\n",
    "Do not round your answer."
   ]
  },
  {
   "cell_type": "code",
   "execution_count": 8,
   "id": "f4181735",
   "metadata": {
    "_cell_guid": "1f389796-8aeb-424c-848c-4e6f15597a71",
    "_uuid": "bea7aff3-2f65-4c1f-8aef-9ea62d4f8f6f",
    "collapsed": false,
    "execution": {
     "iopub.execute_input": "2025-01-15T21:32:06.178699Z",
     "iopub.status.busy": "2025-01-15T21:32:06.178316Z",
     "iopub.status.idle": "2025-01-15T21:32:06.185685Z",
     "shell.execute_reply": "2025-01-15T21:32:06.184852Z"
    },
    "jupyter": {
     "outputs_hidden": false
    },
    "papermill": {
     "duration": 0.017012,
     "end_time": "2025-01-15T21:32:06.187231",
     "exception": false,
     "start_time": "2025-01-15T21:32:06.170219",
     "status": "completed"
    },
    "tags": []
   },
   "outputs": [
    {
     "data": {
      "application/javascript": [
       "parent.postMessage({\"jupyterEvent\": \"custom.exercise_interaction\", \"data\": {\"outcomeType\": 2, \"failureMessage\": \"Expected return value of `150.0` given `gb=15.5`, but got `100` instead.\", \"interactionType\": 1, \"questionType\": 2, \"questionId\": \"4_GetPhoneBill\", \"learnToolsVersion\": \"0.3.4\", \"valueTowardsCompletion\": 0.0, \"exceptionClass\": \"\", \"trace\": \"\"}}, \"*\")"
      ],
      "text/plain": [
       "<IPython.core.display.Javascript object>"
      ]
     },
     "metadata": {},
     "output_type": "display_data"
    },
    {
     "data": {
      "text/markdown": [
       "<span style=\"color:#cc3333\">Incorrect:</span> Expected return value of `150.0` given `gb=15.5`, but got `100` instead."
      ],
      "text/plain": [
       "Incorrect: Expected return value of `150.0` given `gb=15.5`, but got `100` instead."
      ]
     },
     "metadata": {},
     "output_type": "display_data"
    }
   ],
   "source": [
    "# TODO: Edit the function to return the correct bill for different\n",
    "# values of GB\n",
    "def get_phone_bill(gb):\n",
    "    bill = 100\n",
    "    return bill\n",
    "\n",
    "# Check your answer\n",
    "q4.check()"
   ]
  },
  {
   "cell_type": "code",
   "execution_count": 9,
   "id": "3b3cde07",
   "metadata": {
    "_cell_guid": "de068495-92da-4da7-8836-e098689f1ed4",
    "_uuid": "a4538367-93b7-4338-8140-6375c9a438d4",
    "collapsed": false,
    "execution": {
     "iopub.execute_input": "2025-01-15T21:32:06.203360Z",
     "iopub.status.busy": "2025-01-15T21:32:06.203007Z",
     "iopub.status.idle": "2025-01-15T21:32:06.206935Z",
     "shell.execute_reply": "2025-01-15T21:32:06.205869Z"
    },
    "jupyter": {
     "outputs_hidden": false
    },
    "papermill": {
     "duration": 0.014078,
     "end_time": "2025-01-15T21:32:06.208861",
     "exception": false,
     "start_time": "2025-01-15T21:32:06.194783",
     "status": "completed"
    },
    "tags": []
   },
   "outputs": [],
   "source": [
    "# Uncomment to see a hint\n",
    "#q4.hint()\n",
    "\n",
    "# Uncomment to see the solution\n",
    "#q4.solution()"
   ]
  },
  {
   "cell_type": "markdown",
   "id": "a74ca002",
   "metadata": {
    "_cell_guid": "5f14325f-1225-4214-beab-ec5f598f8e84",
    "_uuid": "6ab39623-64ff-4f89-95d7-42a1eff47dc0",
    "collapsed": false,
    "jupyter": {
     "outputs_hidden": false
    },
    "papermill": {
     "duration": 0.007256,
     "end_time": "2025-01-15T21:32:06.223681",
     "exception": false,
     "start_time": "2025-01-15T21:32:06.216425",
     "status": "completed"
    },
    "tags": []
   },
   "source": [
    "# 🌶️ Question 5\n",
    "\n",
    "In Mexico, foods and beverages that are high in saturated fat, trans fat, sugar, sodium, and/or calories appear with warning labels that are designed to help consumers make healthy food choices.\n",
    "\n",
    "For instance, the [box of cookies](https://world.openfoodfacts.org/product/7501000673209/florentinas-gamesa) in the image below appears with two labels (in the upper right corner):\n",
    "- EXCESO CALORÍAS (in English, EXCESS CALORIES)\n",
    "- EXCESO AZÚCARES (in English, EXCESS SUGAR)\n",
    "\n",
    "<center><img src=\"https://storage.googleapis.com/kaggle-media/learn/images/VXYKHnM.png\" alt=\"drawing\" width=\"500\"/></center>\n",
    "\n",
    "In this question, you'll work with a function `get_labels()` that takes the nutritional details about a food item and prints the needed warning labels.  This function takes several inputs:\n",
    "- `food_type` = one of `\"solid\"` or `\"liquid\"`\n",
    "- `serving_size` = size of one serving (if solid, in grams; if liquid, in milliliters)\n",
    "- `calories_per_serving` = calories in one serving\n",
    "- `saturated_fat_g` = grams of saturated fat in one serving\n",
    "- `trans_fat_g` = grams of trans fat in one serving\n",
    "- `sodium_mg` = mg of sodium in one serving\n",
    "- `sugars_g` = grams of sugar in one serving\n",
    "\n",
    "Note that some of the code here should feel unfamiliar to you, since we have not shared the details of how some of the functions like `excess_sugar()` or `excess_saturated_fat()` work.  But at a high level, these are functions that return a value of `True` if the food is deemed to have an excess of sugar or saturated fat, respectively.  These functions are used within the `get_labels()` function, and whenever there is an excess (of sugar or saturated fat, but also of trans fat, sodium, or calories), it prints the corresponding label."
   ]
  },
  {
   "cell_type": "code",
   "execution_count": 10,
   "id": "8e795961",
   "metadata": {
    "_cell_guid": "f70e00d7-659d-476a-a40a-1e7afa67a1f9",
    "_uuid": "4efa597e-2207-4c00-812b-6467c062faf7",
    "collapsed": false,
    "execution": {
     "iopub.execute_input": "2025-01-15T21:32:06.239859Z",
     "iopub.status.busy": "2025-01-15T21:32:06.239430Z",
     "iopub.status.idle": "2025-01-15T21:32:06.247361Z",
     "shell.execute_reply": "2025-01-15T21:32:06.246346Z"
    },
    "jupyter": {
     "outputs_hidden": false
    },
    "papermill": {
     "duration": 0.017827,
     "end_time": "2025-01-15T21:32:06.249015",
     "exception": false,
     "start_time": "2025-01-15T21:32:06.231188",
     "status": "completed"
    },
    "tags": []
   },
   "outputs": [],
   "source": [
    "# import functions needed to make get_labels work\n",
    "from learntools.intro_to_programming.ex4q5 import excess_sugar, excess_saturated_fat, excess_trans_fat, excess_sodium, excess_calories\n",
    "\n",
    "def get_labels(food_type, serving_size, calories_per_serving, saturated_fat_g, trans_fat_g, sodium_mg, sugars_g):\n",
    "    # Print messages based on findings\n",
    "    if excess_sugar(sugars_g, calories_per_serving) == True:\n",
    "        print(\"EXCESO AZÚCARES / EXCESS SUGAR\")\n",
    "    if excess_saturated_fat(saturated_fat_g, calories_per_serving) == True:\n",
    "        print(\"EXCESO GRASAS SATURADAS / EXCESS SATURATED FAT\")\n",
    "    if excess_trans_fat(trans_fat_g, calories_per_serving) == True:\n",
    "        print(\"EXCESO GRASAS TRANS / EXCESS TRANS FAT\")\n",
    "    if excess_sodium(calories_per_serving, sodium_mg) == True:\n",
    "        print(\"EXCESO SODIO / EXCESS SODIUM\")\n",
    "    if excess_calories(food_type, calories_per_serving, serving_size) == True:\n",
    "        print(\"EXCESO CALORÍAS / EXCESS CALORIES\")"
   ]
  },
  {
   "cell_type": "markdown",
   "id": "19b5eb71",
   "metadata": {
    "_cell_guid": "ffb0a4ac-767c-42dd-be16-4d8989a72e1c",
    "_uuid": "824826d6-f2a4-43ec-96a6-762d4268e3f1",
    "collapsed": false,
    "jupyter": {
     "outputs_hidden": false
    },
    "papermill": {
     "duration": 0.007099,
     "end_time": "2025-01-15T21:32:06.263616",
     "exception": false,
     "start_time": "2025-01-15T21:32:06.256517",
     "status": "completed"
    },
    "tags": []
   },
   "source": [
    "The next code cell demonstrates how to use `get_labels()` to get the warning labels that the food item should contain.  We begin with [bologna](https://world.openfoodfacts.org/product/4099100179378/bologna).  Here is [an image](https://storage.googleapis.com/kaggle-media/learn/images/Cfcx72e.png) with all of the nutritional information.  Note that for this food,\n",
    "- `food_type = \"solid\"` (because bologna is a solid and not a liquid)\n",
    "- `serving_size = 32` (the serving size is 32 grams)\n",
    "- `calories_per_serving = 110` (there are 110 calories per serving)\n",
    "- `saturated_fat_g = 2.5` (there are 2.5 grams of saturated fat per serving)\n",
    "- `trans_fat_g = 0` (there are 0 grams of trans fat per serving)\n",
    "- `sodium_mg = 400` (there are 400 mg of sodium per serving)\n",
    "- `sugars_g = 1` (the nutrition facts say <1g, but we will round it up to 1 gram per serving to be safe)\n",
    "\n",
    "By supplying all of these values to the function, we can print the warning labels."
   ]
  },
  {
   "cell_type": "code",
   "execution_count": 11,
   "id": "8faf7894",
   "metadata": {
    "_cell_guid": "1bb67db8-2864-4320-aec3-db441644af92",
    "_uuid": "f549083f-bed8-428b-abd1-64b2c950dc5b",
    "collapsed": false,
    "execution": {
     "iopub.execute_input": "2025-01-15T21:32:06.279340Z",
     "iopub.status.busy": "2025-01-15T21:32:06.279022Z",
     "iopub.status.idle": "2025-01-15T21:32:06.284242Z",
     "shell.execute_reply": "2025-01-15T21:32:06.283312Z"
    },
    "jupyter": {
     "outputs_hidden": false
    },
    "papermill": {
     "duration": 0.014931,
     "end_time": "2025-01-15T21:32:06.285782",
     "exception": false,
     "start_time": "2025-01-15T21:32:06.270851",
     "status": "completed"
    },
    "tags": []
   },
   "outputs": [
    {
     "name": "stdout",
     "output_type": "stream",
     "text": [
      "EXCESO GRASAS SATURADAS / EXCESS SATURATED FAT\n",
      "EXCESO SODIO / EXCESS SODIUM\n",
      "EXCESO CALORÍAS / EXCESS CALORIES\n"
     ]
    }
   ],
   "source": [
    "# bologna https://world.openfoodfacts.org/product/4099100179378/bologna\n",
    "get_labels(\"solid\", 32, 110, 2.5, 0, 400, 1)"
   ]
  },
  {
   "cell_type": "markdown",
   "id": "2b0139e9",
   "metadata": {
    "_cell_guid": "4e57dfd6-ab84-44d5-8917-e2bf23017d31",
    "_uuid": "b3bc498a-a8e0-4bb0-9158-fbeb64031eb2",
    "collapsed": false,
    "jupyter": {
     "outputs_hidden": false
    },
    "papermill": {
     "duration": 0.007145,
     "end_time": "2025-01-15T21:32:06.300613",
     "exception": false,
     "start_time": "2025-01-15T21:32:06.293468",
     "status": "completed"
    },
    "tags": []
   },
   "source": [
    "This bologna has three labels, printed in the output above.\n",
    "\n",
    "For the rest of this question, you will use the same `get_labels()` function to determine the labels for more foods.  This question is designed to help you get practice with feeling comfortable with code that other people have written, and where you don't have time to review every single line of code before interacting with it.  For instance, when you take the [Intro to Machine Learning course](http://www.kaggle.com/learn/intro-to-machine-learning), you'll work with a Python package called \"scikit-learn\", which is a large collection of code that you'll learn how to run without reviewing all of the code in detail (as it would take too long, and you can trust that it was implemented correctly).\n",
    "\n",
    "In general, as you continue coding in Python, you will often be running code that other people have written.  This is common practice for advanced programmers.\n",
    "\n",
    "In the next code cell, fill in the values for [this cereal](https://world.openfoodfacts.org/product/7501008023624/zucaritas-kellogg-s).  Here is [an image](https://storage.googleapis.com/kaggle-media/learn/images/MUxzHVU.png) with all of the nutritional information.\n",
    "\n",
    "**Note**: running the line of code below as-is will return an error.  You have to fill in the nutritional values first."
   ]
  },
  {
   "cell_type": "code",
   "execution_count": 12,
   "id": "2f844eef",
   "metadata": {
    "_cell_guid": "749f2d90-a217-43a2-8cac-c42a073f5159",
    "_uuid": "cb70a367-ebcf-424a-9c2b-578697ca4c5c",
    "collapsed": false,
    "execution": {
     "iopub.execute_input": "2025-01-15T21:32:06.316730Z",
     "iopub.status.busy": "2025-01-15T21:32:06.316341Z",
     "iopub.status.idle": "2025-01-15T21:32:06.320024Z",
     "shell.execute_reply": "2025-01-15T21:32:06.319167Z"
    },
    "jupyter": {
     "outputs_hidden": false
    },
    "papermill": {
     "duration": 0.013483,
     "end_time": "2025-01-15T21:32:06.321437",
     "exception": false,
     "start_time": "2025-01-15T21:32:06.307954",
     "status": "completed"
    },
    "tags": []
   },
   "outputs": [],
   "source": [
    "# zucaritas cereal https://world.openfoodfacts.org/product/7501008023624/zucaritas-kellogg-s\n",
    "# TODO: Uncomment the line below, fill in the values, and run the function\n",
    "#get_labels()"
   ]
  },
  {
   "cell_type": "markdown",
   "id": "1f28252a",
   "metadata": {
    "_cell_guid": "8fef4822-fe78-45d4-bd26-ee15e1ae456c",
    "_uuid": "17953485-4b66-4a63-9072-79087625e4c9",
    "collapsed": false,
    "jupyter": {
     "outputs_hidden": false
    },
    "papermill": {
     "duration": 0.007041,
     "end_time": "2025-01-15T21:32:06.336176",
     "exception": false,
     "start_time": "2025-01-15T21:32:06.329135",
     "status": "completed"
    },
    "tags": []
   },
   "source": [
    "Next, try [these mozzarella sticks](https://world-es.openfoodfacts.org/producto/0062325540104/mozzarella-cheese-sticks).  Here is [an image](https://storage.googleapis.com/kaggle-media/learn/images/rcdB7VH.png) with all of the nutritional information."
   ]
  },
  {
   "cell_type": "code",
   "execution_count": 13,
   "id": "86ab541e",
   "metadata": {
    "_cell_guid": "f852dfdd-2a4c-4e42-b3df-f1ec9888f171",
    "_uuid": "70640a20-adcf-47a1-83d0-a3aaba746c9f",
    "collapsed": false,
    "execution": {
     "iopub.execute_input": "2025-01-15T21:32:06.352270Z",
     "iopub.status.busy": "2025-01-15T21:32:06.351912Z",
     "iopub.status.idle": "2025-01-15T21:32:06.355764Z",
     "shell.execute_reply": "2025-01-15T21:32:06.354651Z"
    },
    "jupyter": {
     "outputs_hidden": false
    },
    "papermill": {
     "duration": 0.013882,
     "end_time": "2025-01-15T21:32:06.357468",
     "exception": false,
     "start_time": "2025-01-15T21:32:06.343586",
     "status": "completed"
    },
    "tags": []
   },
   "outputs": [],
   "source": [
    "# mozzarella sticks https://world-es.openfoodfacts.org/producto/0062325540104/mozzarella-cheese-sticks\n",
    "# TODO: Uncomment the line below, fill in the values, and run the function\n",
    "#get_labels()"
   ]
  },
  {
   "cell_type": "markdown",
   "id": "184b73a6",
   "metadata": {
    "_cell_guid": "c106f21d-4382-42fe-ac74-fe264701cb99",
    "_uuid": "6e739e97-55ee-4bdd-ad64-a02d2207ac85",
    "collapsed": false,
    "jupyter": {
     "outputs_hidden": false
    },
    "papermill": {
     "duration": 0.007228,
     "end_time": "2025-01-15T21:32:06.372186",
     "exception": false,
     "start_time": "2025-01-15T21:32:06.364958",
     "status": "completed"
    },
    "tags": []
   },
   "source": [
    "Feel free to skip to the end of the notebook now and run `q5.check()` to complete the exercise.  If you want to try more foods, \n",
    "- try [these cookies](https://world.openfoodfacts.org/product/0069700118545/biscuits-au-sucre-pretraches).  Here is [an image](https://storage.googleapis.com/kaggle-media/learn/images/2Bc271o.png) with all of the nutritional information.\n",
    "- try [this soda](https://world-es.openfoodfacts.org/producto/0078000113464/orange-soda-sunkist).  Here is [an image](https://storage.googleapis.com/kaggle-media/learn/images/RsBYa8E.png) with all of the nutritional information.\n",
    "\n",
    "Use the two code cells below for this."
   ]
  },
  {
   "cell_type": "code",
   "execution_count": 14,
   "id": "713ddf10",
   "metadata": {
    "_cell_guid": "7a22a962-38e1-4e02-adb7-6d4f884f5a57",
    "_uuid": "a51efedd-d417-481d-a5ab-29f21c7dfd36",
    "collapsed": false,
    "execution": {
     "iopub.execute_input": "2025-01-15T21:32:06.388340Z",
     "iopub.status.busy": "2025-01-15T21:32:06.388023Z",
     "iopub.status.idle": "2025-01-15T21:32:06.391839Z",
     "shell.execute_reply": "2025-01-15T21:32:06.390851Z"
    },
    "jupyter": {
     "outputs_hidden": false
    },
    "papermill": {
     "duration": 0.013777,
     "end_time": "2025-01-15T21:32:06.393449",
     "exception": false,
     "start_time": "2025-01-15T21:32:06.379672",
     "status": "completed"
    },
    "tags": []
   },
   "outputs": [],
   "source": [
    "# pillsbury cookies https://world.openfoodfacts.org/product/0069700118545/biscuits-au-sucre-pretraches\n",
    "# TODO: Uncomment the line below, fill in the values, and run the function\n",
    "#get_labels()"
   ]
  },
  {
   "cell_type": "code",
   "execution_count": 15,
   "id": "6b4be239",
   "metadata": {
    "_cell_guid": "e09a2ff6-3394-4b4a-b06a-21e864a49a07",
    "_uuid": "7b3eca49-c8a3-4474-a77d-51c9d104eaff",
    "collapsed": false,
    "execution": {
     "iopub.execute_input": "2025-01-15T21:32:06.410278Z",
     "iopub.status.busy": "2025-01-15T21:32:06.409950Z",
     "iopub.status.idle": "2025-01-15T21:32:06.413758Z",
     "shell.execute_reply": "2025-01-15T21:32:06.412656Z"
    },
    "jupyter": {
     "outputs_hidden": false
    },
    "papermill": {
     "duration": 0.014123,
     "end_time": "2025-01-15T21:32:06.415466",
     "exception": false,
     "start_time": "2025-01-15T21:32:06.401343",
     "status": "completed"
    },
    "tags": []
   },
   "outputs": [],
   "source": [
    "# sunkist orange soda https://world-es.openfoodfacts.org/producto/0078000113464/orange-soda-sunkist\n",
    "# TODO: Uncomment the line below, fill in the values, and run the function\n",
    "#get_labels()"
   ]
  },
  {
   "cell_type": "markdown",
   "id": "9921e032",
   "metadata": {
    "_cell_guid": "faabc999-9295-4f20-9dd5-5a2a9f3820d9",
    "_uuid": "e2b39bbe-ff06-4810-817c-464cabc81aaa",
    "collapsed": false,
    "jupyter": {
     "outputs_hidden": false
    },
    "papermill": {
     "duration": 0.008061,
     "end_time": "2025-01-15T21:32:06.431309",
     "exception": false,
     "start_time": "2025-01-15T21:32:06.423248",
     "status": "completed"
    },
    "tags": []
   },
   "source": [
    "Once you have finished investigating the food items in this question, run the final code cell to get credit for completing this problem."
   ]
  },
  {
   "cell_type": "code",
   "execution_count": 16,
   "id": "c3fccb00",
   "metadata": {
    "_cell_guid": "00e6e3a2-3778-4957-9bc2-aa8b64dbf353",
    "_uuid": "13a11075-d32e-467e-b702-4aec7f11c95d",
    "collapsed": false,
    "execution": {
     "iopub.execute_input": "2025-01-15T21:32:06.447823Z",
     "iopub.status.busy": "2025-01-15T21:32:06.447430Z",
     "iopub.status.idle": "2025-01-15T21:32:06.454609Z",
     "shell.execute_reply": "2025-01-15T21:32:06.453728Z"
    },
    "jupyter": {
     "outputs_hidden": false
    },
    "papermill": {
     "duration": 0.017054,
     "end_time": "2025-01-15T21:32:06.456254",
     "exception": false,
     "start_time": "2025-01-15T21:32:06.439200",
     "status": "completed"
    },
    "tags": []
   },
   "outputs": [
    {
     "data": {
      "application/javascript": [
       "parent.postMessage({\"jupyterEvent\": \"custom.exercise_interaction\", \"data\": {\"outcomeType\": 1, \"valueTowardsCompletion\": 0.2, \"interactionType\": 1, \"questionType\": 2, \"questionId\": \"5_GetLabels\", \"learnToolsVersion\": \"0.3.4\", \"failureMessage\": \"\", \"exceptionClass\": \"\", \"trace\": \"\"}}, \"*\")"
      ],
      "text/plain": [
       "<IPython.core.display.Javascript object>"
      ]
     },
     "metadata": {},
     "output_type": "display_data"
    },
    {
     "data": {
      "text/markdown": [
       "<span style=\"color:#33cc33\">Once you have determined the labels for all of the food items, you're ready to move on to the next lesson!</span>"
      ],
      "text/plain": [
       "Once you have determined the labels for all of the food items, you're ready to move on to the next lesson!"
      ]
     },
     "metadata": {},
     "output_type": "display_data"
    }
   ],
   "source": [
    "# Get credit for completing the problem\n",
    "q5.check()"
   ]
  },
  {
   "cell_type": "markdown",
   "id": "12192469",
   "metadata": {
    "_cell_guid": "256fa3b4-71bf-4b21-8d71-c0b917f7a1aa",
    "_uuid": "24d751a5-d3bd-4d52-9149-589cf6d9b3bf",
    "collapsed": false,
    "jupyter": {
     "outputs_hidden": false
    },
    "papermill": {
     "duration": 0.007212,
     "end_time": "2025-01-15T21:32:06.471357",
     "exception": false,
     "start_time": "2025-01-15T21:32:06.464145",
     "status": "completed"
    },
    "tags": []
   },
   "source": [
    "# Keep going\n",
    "\n",
    "Continue to the next lesson to **[learn about Python lists](https://www.kaggle.com/alexisbcook/intro-to-lists)**."
   ]
  },
  {
   "cell_type": "markdown",
   "id": "aade725c",
   "metadata": {
    "_cell_guid": "b98425e9-c260-4495-9b6d-9552c18876cc",
    "_uuid": "55ae2989-83c2-40b3-a3c6-42508e34eccb",
    "collapsed": false,
    "jupyter": {
     "outputs_hidden": false
    },
    "papermill": {
     "duration": 0.007452,
     "end_time": "2025-01-15T21:32:06.486425",
     "exception": false,
     "start_time": "2025-01-15T21:32:06.478973",
     "status": "completed"
    },
    "tags": []
   },
   "source": [
    "---\n",
    "\n",
    "\n",
    "\n",
    "\n",
    "*Have questions or comments? Visit the [course discussion forum](https://www.kaggle.com/learn/intro-to-programming/discussion) to chat with other learners.*"
   ]
  }
 ],
 "metadata": {
  "kaggle": {
   "accelerator": "none",
   "dataSources": [],
   "isGpuEnabled": false,
   "isInternetEnabled": true,
   "language": "python",
   "sourceType": "notebook"
  },
  "kernelspec": {
   "display_name": "Python 3",
   "language": "python",
   "name": "python3"
  },
  "language_info": {
   "codemirror_mode": {
    "name": "ipython",
    "version": 3
   },
   "file_extension": ".py",
   "mimetype": "text/x-python",
   "name": "python",
   "nbconvert_exporter": "python",
   "pygments_lexer": "ipython3",
   "version": "3.10.12"
  },
  "papermill": {
   "default_parameters": {},
   "duration": 4.855859,
   "end_time": "2025-01-15T21:32:07.113464",
   "environment_variables": {},
   "exception": null,
   "input_path": "__notebook__.ipynb",
   "output_path": "__notebook__.ipynb",
   "parameters": {},
   "start_time": "2025-01-15T21:32:02.257605",
   "version": "2.6.0"
  }
 },
 "nbformat": 4,
 "nbformat_minor": 5
}
